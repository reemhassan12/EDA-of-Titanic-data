{
 "cells": [
  {
   "cell_type": "markdown",
   "id": "cf710c2a",
   "metadata": {
    "papermill": {
     "duration": 0.047769,
     "end_time": "2021-08-06T03:19:00.167250",
     "exception": false,
     "start_time": "2021-08-06T03:19:00.119481",
     "status": "completed"
    },
    "tags": []
   },
   "source": [
    "# Exploratory data analysis of Titanic data"
   ]
  },
  {
   "cell_type": "markdown",
   "id": "4d2cb229",
   "metadata": {
    "papermill": {
     "duration": 0.042322,
     "end_time": "2021-08-06T03:19:00.251977",
     "exception": false,
     "start_time": "2021-08-06T03:19:00.209655",
     "status": "completed"
    },
    "tags": []
   },
   "source": [
    "Titanic data is very interesting data to explore specially for biginners in machine learning and data science .I hope this notebook is useful for you to understand and explore the data"
   ]
  },
  {
   "cell_type": "code",
   "execution_count": 1,
   "id": "5af7c7d9",
   "metadata": {
    "execution": {
     "iopub.execute_input": "2021-08-06T03:19:00.323606Z",
     "iopub.status.busy": "2021-08-06T03:19:00.322845Z",
     "iopub.status.idle": "2021-08-06T03:19:01.408676Z",
     "shell.execute_reply": "2021-08-06T03:19:01.409134Z"
    },
    "papermill": {
     "duration": 1.12714,
     "end_time": "2021-08-06T03:19:01.409491",
     "exception": false,
     "start_time": "2021-08-06T03:19:00.282351",
     "status": "completed"
    },
    "tags": []
   },
   "outputs": [],
   "source": [
    "#import libraries\n",
    "import numpy as np\n",
    "import pandas as pd\n",
    "import seaborn as sns\n",
    "import matplotlib.pyplot as plt\n",
    "%matplotlib inline"
   ]
  },
  {
   "cell_type": "code",
   "execution_count": 2,
   "id": "9f67c0f9",
   "metadata": {
    "execution": {
     "iopub.execute_input": "2021-08-06T03:19:01.475455Z",
     "iopub.status.busy": "2021-08-06T03:19:01.474852Z",
     "iopub.status.idle": "2021-08-06T03:19:01.502620Z",
     "shell.execute_reply": "2021-08-06T03:19:01.502015Z"
    },
    "papermill": {
     "duration": 0.062335,
     "end_time": "2021-08-06T03:19:01.502760",
     "exception": false,
     "start_time": "2021-08-06T03:19:01.440425",
     "status": "completed"
    },
    "tags": []
   },
   "outputs": [],
   "source": [
    "#load the dataset\n",
    "train=pd.read_csv('../input/titanic/train.csv')\n",
    "test=pd.read_csv('../input/titanic/test.csv')"
   ]
  },
  {
   "cell_type": "code",
   "execution_count": 3,
   "id": "f8d8a2e4",
   "metadata": {
    "execution": {
     "iopub.execute_input": "2021-08-06T03:19:01.567733Z",
     "iopub.status.busy": "2021-08-06T03:19:01.567054Z",
     "iopub.status.idle": "2021-08-06T03:19:01.600669Z",
     "shell.execute_reply": "2021-08-06T03:19:01.601110Z"
    },
    "papermill": {
     "duration": 0.067586,
     "end_time": "2021-08-06T03:19:01.601267",
     "exception": false,
     "start_time": "2021-08-06T03:19:01.533681",
     "status": "completed"
    },
    "tags": []
   },
   "outputs": [
    {
     "name": "stdout",
     "output_type": "stream",
     "text": [
      "train shape is: (891, 12) \n",
      " test shape is: (418, 11) \n",
      "\n",
      "\n",
      "the features of data:\n",
      "\n",
      " ['PassengerId' 'Survived' 'Pclass' 'Name' 'Sex' 'Age' 'SibSp' 'Parch'\n",
      " 'Ticket' 'Fare' 'Cabin' 'Embarked']\n"
     ]
    },
    {
     "data": {
      "text/html": [
       "<div>\n",
       "<style scoped>\n",
       "    .dataframe tbody tr th:only-of-type {\n",
       "        vertical-align: middle;\n",
       "    }\n",
       "\n",
       "    .dataframe tbody tr th {\n",
       "        vertical-align: top;\n",
       "    }\n",
       "\n",
       "    .dataframe thead th {\n",
       "        text-align: right;\n",
       "    }\n",
       "</style>\n",
       "<table border=\"1\" class=\"dataframe\">\n",
       "  <thead>\n",
       "    <tr style=\"text-align: right;\">\n",
       "      <th></th>\n",
       "      <th>PassengerId</th>\n",
       "      <th>Survived</th>\n",
       "      <th>Pclass</th>\n",
       "      <th>Name</th>\n",
       "      <th>Sex</th>\n",
       "      <th>Age</th>\n",
       "      <th>SibSp</th>\n",
       "      <th>Parch</th>\n",
       "      <th>Ticket</th>\n",
       "      <th>Fare</th>\n",
       "      <th>Cabin</th>\n",
       "      <th>Embarked</th>\n",
       "    </tr>\n",
       "  </thead>\n",
       "  <tbody>\n",
       "    <tr>\n",
       "      <th>0</th>\n",
       "      <td>1</td>\n",
       "      <td>0</td>\n",
       "      <td>3</td>\n",
       "      <td>Braund, Mr. Owen Harris</td>\n",
       "      <td>male</td>\n",
       "      <td>22.0</td>\n",
       "      <td>1</td>\n",
       "      <td>0</td>\n",
       "      <td>A/5 21171</td>\n",
       "      <td>7.2500</td>\n",
       "      <td>NaN</td>\n",
       "      <td>S</td>\n",
       "    </tr>\n",
       "    <tr>\n",
       "      <th>1</th>\n",
       "      <td>2</td>\n",
       "      <td>1</td>\n",
       "      <td>1</td>\n",
       "      <td>Cumings, Mrs. John Bradley (Florence Briggs Th...</td>\n",
       "      <td>female</td>\n",
       "      <td>38.0</td>\n",
       "      <td>1</td>\n",
       "      <td>0</td>\n",
       "      <td>PC 17599</td>\n",
       "      <td>71.2833</td>\n",
       "      <td>C85</td>\n",
       "      <td>C</td>\n",
       "    </tr>\n",
       "    <tr>\n",
       "      <th>2</th>\n",
       "      <td>3</td>\n",
       "      <td>1</td>\n",
       "      <td>3</td>\n",
       "      <td>Heikkinen, Miss. Laina</td>\n",
       "      <td>female</td>\n",
       "      <td>26.0</td>\n",
       "      <td>0</td>\n",
       "      <td>0</td>\n",
       "      <td>STON/O2. 3101282</td>\n",
       "      <td>7.9250</td>\n",
       "      <td>NaN</td>\n",
       "      <td>S</td>\n",
       "    </tr>\n",
       "    <tr>\n",
       "      <th>3</th>\n",
       "      <td>4</td>\n",
       "      <td>1</td>\n",
       "      <td>1</td>\n",
       "      <td>Futrelle, Mrs. Jacques Heath (Lily May Peel)</td>\n",
       "      <td>female</td>\n",
       "      <td>35.0</td>\n",
       "      <td>1</td>\n",
       "      <td>0</td>\n",
       "      <td>113803</td>\n",
       "      <td>53.1000</td>\n",
       "      <td>C123</td>\n",
       "      <td>S</td>\n",
       "    </tr>\n",
       "    <tr>\n",
       "      <th>4</th>\n",
       "      <td>5</td>\n",
       "      <td>0</td>\n",
       "      <td>3</td>\n",
       "      <td>Allen, Mr. William Henry</td>\n",
       "      <td>male</td>\n",
       "      <td>35.0</td>\n",
       "      <td>0</td>\n",
       "      <td>0</td>\n",
       "      <td>373450</td>\n",
       "      <td>8.0500</td>\n",
       "      <td>NaN</td>\n",
       "      <td>S</td>\n",
       "    </tr>\n",
       "  </tbody>\n",
       "</table>\n",
       "</div>"
      ],
      "text/plain": [
       "   PassengerId  Survived  Pclass  \\\n",
       "0            1         0       3   \n",
       "1            2         1       1   \n",
       "2            3         1       3   \n",
       "3            4         1       1   \n",
       "4            5         0       3   \n",
       "\n",
       "                                                Name     Sex   Age  SibSp  \\\n",
       "0                            Braund, Mr. Owen Harris    male  22.0      1   \n",
       "1  Cumings, Mrs. John Bradley (Florence Briggs Th...  female  38.0      1   \n",
       "2                             Heikkinen, Miss. Laina  female  26.0      0   \n",
       "3       Futrelle, Mrs. Jacques Heath (Lily May Peel)  female  35.0      1   \n",
       "4                           Allen, Mr. William Henry    male  35.0      0   \n",
       "\n",
       "   Parch            Ticket     Fare Cabin Embarked  \n",
       "0      0         A/5 21171   7.2500   NaN        S  \n",
       "1      0          PC 17599  71.2833   C85        C  \n",
       "2      0  STON/O2. 3101282   7.9250   NaN        S  \n",
       "3      0            113803  53.1000  C123        S  \n",
       "4      0            373450   8.0500   NaN        S  "
      ]
     },
     "execution_count": 3,
     "metadata": {},
     "output_type": "execute_result"
    }
   ],
   "source": [
    "#take a look at the data\n",
    "print('train shape is:',train.shape,'\\n','test shape is:',test.shape,'\\n\\n')\n",
    "print('the features of data:\\n\\n',train.columns.values)\n",
    "train.head()\n"
   ]
  },
  {
   "cell_type": "code",
   "execution_count": 4,
   "id": "75b09e6a",
   "metadata": {
    "execution": {
     "iopub.execute_input": "2021-08-06T03:19:01.676832Z",
     "iopub.status.busy": "2021-08-06T03:19:01.676048Z",
     "iopub.status.idle": "2021-08-06T03:19:01.722143Z",
     "shell.execute_reply": "2021-08-06T03:19:01.721165Z"
    },
    "papermill": {
     "duration": 0.08974,
     "end_time": "2021-08-06T03:19:01.722336",
     "exception": false,
     "start_time": "2021-08-06T03:19:01.632596",
     "status": "completed"
    },
    "tags": []
   },
   "outputs": [
    {
     "data": {
      "text/html": [
       "<div>\n",
       "<style scoped>\n",
       "    .dataframe tbody tr th:only-of-type {\n",
       "        vertical-align: middle;\n",
       "    }\n",
       "\n",
       "    .dataframe tbody tr th {\n",
       "        vertical-align: top;\n",
       "    }\n",
       "\n",
       "    .dataframe thead th {\n",
       "        text-align: right;\n",
       "    }\n",
       "</style>\n",
       "<table border=\"1\" class=\"dataframe\">\n",
       "  <thead>\n",
       "    <tr style=\"text-align: right;\">\n",
       "      <th></th>\n",
       "      <th>PassengerId</th>\n",
       "      <th>Survived</th>\n",
       "      <th>Pclass</th>\n",
       "      <th>Age</th>\n",
       "      <th>SibSp</th>\n",
       "      <th>Parch</th>\n",
       "      <th>Fare</th>\n",
       "    </tr>\n",
       "  </thead>\n",
       "  <tbody>\n",
       "    <tr>\n",
       "      <th>count</th>\n",
       "      <td>891.000000</td>\n",
       "      <td>891.000000</td>\n",
       "      <td>891.000000</td>\n",
       "      <td>714.000000</td>\n",
       "      <td>891.000000</td>\n",
       "      <td>891.000000</td>\n",
       "      <td>891.000000</td>\n",
       "    </tr>\n",
       "    <tr>\n",
       "      <th>mean</th>\n",
       "      <td>446.000000</td>\n",
       "      <td>0.383838</td>\n",
       "      <td>2.308642</td>\n",
       "      <td>29.699118</td>\n",
       "      <td>0.523008</td>\n",
       "      <td>0.381594</td>\n",
       "      <td>32.204208</td>\n",
       "    </tr>\n",
       "    <tr>\n",
       "      <th>std</th>\n",
       "      <td>257.353842</td>\n",
       "      <td>0.486592</td>\n",
       "      <td>0.836071</td>\n",
       "      <td>14.526497</td>\n",
       "      <td>1.102743</td>\n",
       "      <td>0.806057</td>\n",
       "      <td>49.693429</td>\n",
       "    </tr>\n",
       "    <tr>\n",
       "      <th>min</th>\n",
       "      <td>1.000000</td>\n",
       "      <td>0.000000</td>\n",
       "      <td>1.000000</td>\n",
       "      <td>0.420000</td>\n",
       "      <td>0.000000</td>\n",
       "      <td>0.000000</td>\n",
       "      <td>0.000000</td>\n",
       "    </tr>\n",
       "    <tr>\n",
       "      <th>25%</th>\n",
       "      <td>223.500000</td>\n",
       "      <td>0.000000</td>\n",
       "      <td>2.000000</td>\n",
       "      <td>20.125000</td>\n",
       "      <td>0.000000</td>\n",
       "      <td>0.000000</td>\n",
       "      <td>7.910400</td>\n",
       "    </tr>\n",
       "    <tr>\n",
       "      <th>50%</th>\n",
       "      <td>446.000000</td>\n",
       "      <td>0.000000</td>\n",
       "      <td>3.000000</td>\n",
       "      <td>28.000000</td>\n",
       "      <td>0.000000</td>\n",
       "      <td>0.000000</td>\n",
       "      <td>14.454200</td>\n",
       "    </tr>\n",
       "    <tr>\n",
       "      <th>75%</th>\n",
       "      <td>668.500000</td>\n",
       "      <td>1.000000</td>\n",
       "      <td>3.000000</td>\n",
       "      <td>38.000000</td>\n",
       "      <td>1.000000</td>\n",
       "      <td>0.000000</td>\n",
       "      <td>31.000000</td>\n",
       "    </tr>\n",
       "    <tr>\n",
       "      <th>max</th>\n",
       "      <td>891.000000</td>\n",
       "      <td>1.000000</td>\n",
       "      <td>3.000000</td>\n",
       "      <td>80.000000</td>\n",
       "      <td>8.000000</td>\n",
       "      <td>6.000000</td>\n",
       "      <td>512.329200</td>\n",
       "    </tr>\n",
       "  </tbody>\n",
       "</table>\n",
       "</div>"
      ],
      "text/plain": [
       "       PassengerId    Survived      Pclass         Age       SibSp  \\\n",
       "count   891.000000  891.000000  891.000000  714.000000  891.000000   \n",
       "mean    446.000000    0.383838    2.308642   29.699118    0.523008   \n",
       "std     257.353842    0.486592    0.836071   14.526497    1.102743   \n",
       "min       1.000000    0.000000    1.000000    0.420000    0.000000   \n",
       "25%     223.500000    0.000000    2.000000   20.125000    0.000000   \n",
       "50%     446.000000    0.000000    3.000000   28.000000    0.000000   \n",
       "75%     668.500000    1.000000    3.000000   38.000000    1.000000   \n",
       "max     891.000000    1.000000    3.000000   80.000000    8.000000   \n",
       "\n",
       "            Parch        Fare  \n",
       "count  891.000000  891.000000  \n",
       "mean     0.381594   32.204208  \n",
       "std      0.806057   49.693429  \n",
       "min      0.000000    0.000000  \n",
       "25%      0.000000    7.910400  \n",
       "50%      0.000000   14.454200  \n",
       "75%      0.000000   31.000000  \n",
       "max      6.000000  512.329200  "
      ]
     },
     "execution_count": 4,
     "metadata": {},
     "output_type": "execute_result"
    }
   ],
   "source": [
    "#desciptive statistics\n",
    "train.describe()"
   ]
  },
  {
   "cell_type": "code",
   "execution_count": 5,
   "id": "6a43b104",
   "metadata": {
    "execution": {
     "iopub.execute_input": "2021-08-06T03:19:01.804602Z",
     "iopub.status.busy": "2021-08-06T03:19:01.803973Z",
     "iopub.status.idle": "2021-08-06T03:19:01.838849Z",
     "shell.execute_reply": "2021-08-06T03:19:01.838324Z"
    },
    "papermill": {
     "duration": 0.076021,
     "end_time": "2021-08-06T03:19:01.838991",
     "exception": false,
     "start_time": "2021-08-06T03:19:01.762970",
     "status": "completed"
    },
    "tags": []
   },
   "outputs": [
    {
     "data": {
      "text/html": [
       "<div>\n",
       "<style scoped>\n",
       "    .dataframe tbody tr th:only-of-type {\n",
       "        vertical-align: middle;\n",
       "    }\n",
       "\n",
       "    .dataframe tbody tr th {\n",
       "        vertical-align: top;\n",
       "    }\n",
       "\n",
       "    .dataframe thead th {\n",
       "        text-align: right;\n",
       "    }\n",
       "</style>\n",
       "<table border=\"1\" class=\"dataframe\">\n",
       "  <thead>\n",
       "    <tr style=\"text-align: right;\">\n",
       "      <th></th>\n",
       "      <th>Name</th>\n",
       "      <th>Sex</th>\n",
       "      <th>Ticket</th>\n",
       "      <th>Cabin</th>\n",
       "      <th>Embarked</th>\n",
       "    </tr>\n",
       "  </thead>\n",
       "  <tbody>\n",
       "    <tr>\n",
       "      <th>count</th>\n",
       "      <td>891</td>\n",
       "      <td>891</td>\n",
       "      <td>891</td>\n",
       "      <td>204</td>\n",
       "      <td>889</td>\n",
       "    </tr>\n",
       "    <tr>\n",
       "      <th>unique</th>\n",
       "      <td>891</td>\n",
       "      <td>2</td>\n",
       "      <td>681</td>\n",
       "      <td>147</td>\n",
       "      <td>3</td>\n",
       "    </tr>\n",
       "    <tr>\n",
       "      <th>top</th>\n",
       "      <td>Elsbury, Mr. William James</td>\n",
       "      <td>male</td>\n",
       "      <td>CA. 2343</td>\n",
       "      <td>C23 C25 C27</td>\n",
       "      <td>S</td>\n",
       "    </tr>\n",
       "    <tr>\n",
       "      <th>freq</th>\n",
       "      <td>1</td>\n",
       "      <td>577</td>\n",
       "      <td>7</td>\n",
       "      <td>4</td>\n",
       "      <td>644</td>\n",
       "    </tr>\n",
       "  </tbody>\n",
       "</table>\n",
       "</div>"
      ],
      "text/plain": [
       "                              Name   Sex    Ticket        Cabin Embarked\n",
       "count                          891   891       891          204      889\n",
       "unique                         891     2       681          147        3\n",
       "top     Elsbury, Mr. William James  male  CA. 2343  C23 C25 C27        S\n",
       "freq                             1   577         7            4      644"
      ]
     },
     "execution_count": 5,
     "metadata": {},
     "output_type": "execute_result"
    }
   ],
   "source": [
    "#for catigorical data\n",
    "train.describe(include=['O'])"
   ]
  },
  {
   "cell_type": "markdown",
   "id": "8bf38abd",
   "metadata": {
    "papermill": {
     "duration": 0.03172,
     "end_time": "2021-08-06T03:19:01.902042",
     "exception": false,
     "start_time": "2021-08-06T03:19:01.870322",
     "status": "completed"
    },
    "tags": []
   },
   "source": [
    "## Explore data"
   ]
  },
  {
   "cell_type": "markdown",
   "id": "e67fa3c0",
   "metadata": {
    "papermill": {
     "duration": 0.030836,
     "end_time": "2021-08-06T03:19:01.967903",
     "exception": false,
     "start_time": "2021-08-06T03:19:01.937067",
     "status": "completed"
    },
    "tags": []
   },
   "source": [
    "lets explore the data and try to answer som questions"
   ]
  },
  {
   "cell_type": "markdown",
   "id": "d3c5155d",
   "metadata": {
    "papermill": {
     "duration": 0.033977,
     "end_time": "2021-08-06T03:19:02.033085",
     "exception": false,
     "start_time": "2021-08-06T03:19:01.999108",
     "status": "completed"
    },
    "tags": []
   },
   "source": [
    "#### Q1: Is there a relationship between age and sex to be survived and could the age and sex affect the probability of survival?\n",
    "so lets try to answer this question"
   ]
  },
  {
   "cell_type": "code",
   "execution_count": 6,
   "id": "d3525fc3",
   "metadata": {
    "execution": {
     "iopub.execute_input": "2021-08-06T03:19:02.110038Z",
     "iopub.status.busy": "2021-08-06T03:19:02.109350Z",
     "iopub.status.idle": "2021-08-06T03:19:02.253842Z",
     "shell.execute_reply": "2021-08-06T03:19:02.254280Z"
    },
    "papermill": {
     "duration": 0.189278,
     "end_time": "2021-08-06T03:19:02.254471",
     "exception": false,
     "start_time": "2021-08-06T03:19:02.065193",
     "status": "completed"
    },
    "tags": []
   },
   "outputs": [
    {
     "data": {
      "image/png": "[encoded data removed]",
      "text/plain": [
       "<Figure size 432x288 with 1 Axes>"
      ]
     },
     "metadata": {
      "needs_background": "light"
     },
     "output_type": "display_data"
    }
   ],
   "source": [
    "#count plot for sex column\n",
    "sns.countplot(x='Sex',data=train,palette='Blues');"
   ]
  },
  {
   "cell_type": "markdown",
   "id": "11ac601f",
   "metadata": {
    "papermill": {
     "duration": 0.031306,
     "end_time": "2021-08-06T03:19:02.317266",
     "exception": false,
     "start_time": "2021-08-06T03:19:02.285960",
     "status": "completed"
    },
    "tags": []
   },
   "source": [
    "from this graph we notice the count of males and females among the passengers and as we can see the number of males are more than females"
   ]
  },
  {
   "cell_type": "code",
   "execution_count": 7,
   "id": "fedf126e",
   "metadata": {
    "execution": {
     "iopub.execute_input": "2021-08-06T03:19:02.405245Z",
     "iopub.status.busy": "2021-08-06T03:19:02.404651Z",
     "iopub.status.idle": "2021-08-06T03:19:02.557566Z",
     "shell.execute_reply": "2021-08-06T03:19:02.556758Z"
    },
    "papermill": {
     "duration": 0.208145,
     "end_time": "2021-08-06T03:19:02.557718",
     "exception": false,
     "start_time": "2021-08-06T03:19:02.349573",
     "status": "completed"
    },
    "tags": []
   },
   "outputs": [
    {
     "data": {
      "text/plain": [
       "Text(0.5, 0, 'Age')"
      ]
     },
     "execution_count": 7,
     "metadata": {},
     "output_type": "execute_result"
    },
    {
     "data": {
      "image/png": "[encoded data removed]",
      "text/plain": [
       "<Figure size 432x288 with 1 Axes>"
      ]
     },
     "metadata": {
      "needs_background": "light"
     },
     "output_type": "display_data"
    }
   ],
   "source": [
    "#plot histogram for Age column\n",
    "plt.hist(train['Age']);\n",
    "plt.xlabel('Age')"
   ]
  },
  {
   "cell_type": "markdown",
   "id": "d9c11794",
   "metadata": {
    "papermill": {
     "duration": 0.034312,
     "end_time": "2021-08-06T03:19:02.626040",
     "exception": false,
     "start_time": "2021-08-06T03:19:02.591728",
     "status": "completed"
    },
    "tags": []
   },
   "source": [
    "from this histogram we notice that there is a variance in age of passengers from children to old but the most passengers are adult between teenagers until 30 years old."
   ]
  },
  {
   "cell_type": "code",
   "execution_count": 8,
   "id": "bd325cbb",
   "metadata": {
    "execution": {
     "iopub.execute_input": "2021-08-06T03:19:02.695448Z",
     "iopub.status.busy": "2021-08-06T03:19:02.694691Z",
     "iopub.status.idle": "2021-08-06T03:19:02.877361Z",
     "shell.execute_reply": "2021-08-06T03:19:02.877817Z"
    },
    "papermill": {
     "duration": 0.219043,
     "end_time": "2021-08-06T03:19:02.877993",
     "exception": false,
     "start_time": "2021-08-06T03:19:02.658950",
     "status": "completed"
    },
    "tags": []
   },
   "outputs": [
    {
     "data": {
      "image/png": "[encoded data removed]",
      "text/plain": [
       "<Figure size 432x288 with 1 Axes>"
      ]
     },
     "metadata": {
      "needs_background": "light"
     },
     "output_type": "display_data"
    }
   ],
   "source": [
    "#plot the relationship between Sex and surviving\n",
    "sns.barplot(x='Sex',y='Survived',data=train);"
   ]
  },
  {
   "cell_type": "markdown",
   "id": "2a2667db",
   "metadata": {
    "papermill": {
     "duration": 0.035408,
     "end_time": "2021-08-06T03:19:02.946653",
     "exception": false,
     "start_time": "2021-08-06T03:19:02.911245",
     "status": "completed"
    },
    "tags": []
   },
   "source": [
    "from the graph we understand that females are survived more than males in Titanic"
   ]
  },
  {
   "cell_type": "code",
   "execution_count": 9,
   "id": "8b8066f3",
   "metadata": {
    "execution": {
     "iopub.execute_input": "2021-08-06T03:19:03.016509Z",
     "iopub.status.busy": "2021-08-06T03:19:03.015856Z",
     "iopub.status.idle": "2021-08-06T03:19:06.266650Z",
     "shell.execute_reply": "2021-08-06T03:19:06.267079Z"
    },
    "papermill": {
     "duration": 3.287216,
     "end_time": "2021-08-06T03:19:06.267246",
     "exception": false,
     "start_time": "2021-08-06T03:19:02.980030",
     "status": "completed"
    },
    "tags": []
   },
   "outputs": [
    {
     "data": {
      "image/png": "[encoded data removed]",
      "text/plain": [
       "<Figure size 2160x1440 with 1 Axes>"
      ]
     },
     "metadata": {
      "needs_background": "light"
     },
     "output_type": "display_data"
    }
   ],
   "source": [
    "#plot the relationship between Sex and AGE\n",
    "fig=plt.figure(figsize=(30,20))\n",
    "sns.barplot(x='Age',y='Survived',data=train);\n",
    "plt.xticks(rotation=90);"
   ]
  },
  {
   "cell_type": "markdown",
   "id": "4842f202",
   "metadata": {
    "papermill": {
     "duration": 0.034467,
     "end_time": "2021-08-06T03:19:06.336599",
     "exception": false,
     "start_time": "2021-08-06T03:19:06.302132",
     "status": "completed"
    },
    "tags": []
   },
   "source": [
    "from the graph we notice that we have three catigories of passengers  and survival rate is increase in children and elder passengers than the adults"
   ]
  },
  {
   "cell_type": "markdown",
   "id": "4b70d7b1",
   "metadata": {
    "papermill": {
     "duration": 0.034411,
     "end_time": "2021-08-06T03:19:06.406092",
     "exception": false,
     "start_time": "2021-08-06T03:19:06.371681",
     "status": "completed"
    },
    "tags": []
   },
   "source": [
    "#### The answer of question 1 is:\n",
    "\n",
    "- the number of males are more than number of females among the passengers\n",
    "- the age of passengers is varying between infant until old ,but the most passengers are adults.\n",
    "- females have survival rate more than males so there is a strong relationship between sex    and surviving.\n",
    "- the passengers devided into 3 catigoris depending on age (children,adults,olds)and the      survival rate is more high between children and elder passengers than adults,sothere is a     strong relationship between Age and surviving."
   ]
  },
  {
   "cell_type": "markdown",
   "id": "78d1056f",
   "metadata": {
    "papermill": {
     "duration": 0.034399,
     "end_time": "2021-08-06T03:19:06.474734",
     "exception": false,
     "start_time": "2021-08-06T03:19:06.440335",
     "status": "completed"
    },
    "tags": []
   },
   "source": [
    "#### Q2: Does the passenger's social level affect his survival or not?"
   ]
  },
  {
   "cell_type": "code",
   "execution_count": 10,
   "id": "9006f3a9",
   "metadata": {
    "execution": {
     "iopub.execute_input": "2021-08-06T03:19:06.547243Z",
     "iopub.status.busy": "2021-08-06T03:19:06.546499Z",
     "iopub.status.idle": "2021-08-06T03:19:06.662742Z",
     "shell.execute_reply": "2021-08-06T03:19:06.662209Z"
    },
    "papermill": {
     "duration": 0.153165,
     "end_time": "2021-08-06T03:19:06.662875",
     "exception": false,
     "start_time": "2021-08-06T03:19:06.509710",
     "status": "completed"
    },
    "tags": []
   },
   "outputs": [
    {
     "data": {
      "image/png": "[encoded data removed]",
      "text/plain": [
       "<Figure size 432x288 with 1 Axes>"
      ]
     },
     "metadata": {
      "needs_background": "light"
     },
     "output_type": "display_data"
    }
   ],
   "source": [
    "#count plot for Class column\n",
    "sns.countplot(x='Pclass',data=train,palette='Reds');"
   ]
  },
  {
   "cell_type": "markdown",
   "id": "932921ac",
   "metadata": {
    "papermill": {
     "duration": 0.034685,
     "end_time": "2021-08-06T03:19:06.732669",
     "exception": false,
     "start_time": "2021-08-06T03:19:06.697984",
     "status": "completed"
    },
    "tags": []
   },
   "source": [
    "from the graph we could notice that the half of passengers were in the third class"
   ]
  },
  {
   "cell_type": "code",
   "execution_count": 11,
   "id": "304a1916",
   "metadata": {
    "execution": {
     "iopub.execute_input": "2021-08-06T03:19:06.810952Z",
     "iopub.status.busy": "2021-08-06T03:19:06.810302Z",
     "iopub.status.idle": "2021-08-06T03:19:07.015528Z",
     "shell.execute_reply": "2021-08-06T03:19:07.015970Z"
    },
    "papermill": {
     "duration": 0.248271,
     "end_time": "2021-08-06T03:19:07.016146",
     "exception": false,
     "start_time": "2021-08-06T03:19:06.767875",
     "status": "completed"
    },
    "tags": []
   },
   "outputs": [
    {
     "data": {
      "image/png": "[encoded data removed]",
      "text/plain": [
       "<Figure size 432x288 with 1 Axes>"
      ]
     },
     "metadata": {
      "needs_background": "light"
     },
     "output_type": "display_data"
    }
   ],
   "source": [
    "#plot the relationship between Pclass and survived columns\n",
    "sns.barplot(x='Pclass',y='Survived',data=train);"
   ]
  },
  {
   "cell_type": "markdown",
   "id": "590d8944",
   "metadata": {
    "papermill": {
     "duration": 0.037074,
     "end_time": "2021-08-06T03:19:07.090302",
     "exception": false,
     "start_time": "2021-08-06T03:19:07.053228",
     "status": "completed"
    },
    "tags": []
   },
   "source": [
    "the graph shows the highest survival rate is among first class passengers and the lowest is among the third class"
   ]
  },
  {
   "cell_type": "markdown",
   "id": "4277b244",
   "metadata": {
    "papermill": {
     "duration": 0.036304,
     "end_time": "2021-08-06T03:19:07.164222",
     "exception": false,
     "start_time": "2021-08-06T03:19:07.127918",
     "status": "completed"
    },
    "tags": []
   },
   "source": [
    "##### lets see the sex of passengers in each class with their survival rate"
   ]
  },
  {
   "cell_type": "code",
   "execution_count": 12,
   "id": "b04b46ad",
   "metadata": {
    "execution": {
     "iopub.execute_input": "2021-08-06T03:19:07.243508Z",
     "iopub.status.busy": "2021-08-06T03:19:07.242880Z",
     "iopub.status.idle": "2021-08-06T03:19:07.554501Z",
     "shell.execute_reply": "2021-08-06T03:19:07.554939Z"
    },
    "papermill": {
     "duration": 0.354989,
     "end_time": "2021-08-06T03:19:07.555112",
     "exception": false,
     "start_time": "2021-08-06T03:19:07.200123",
     "status": "completed"
    },
    "tags": []
   },
   "outputs": [
    {
     "data": {
      "image/png": "[encoded data removed]",
      "text/plain": [
       "<Figure size 432x288 with 1 Axes>"
      ]
     },
     "metadata": {
      "needs_background": "light"
     },
     "output_type": "display_data"
    }
   ],
   "source": [
    "#plot the relationship between Pclass,Sex and survived columns\n",
    "sns.barplot(x='Pclass',y='Survived',hue='Sex',data=train);"
   ]
  },
  {
   "cell_type": "markdown",
   "id": "12acf155",
   "metadata": {
    "papermill": {
     "duration": 0.037388,
     "end_time": "2021-08-06T03:19:07.629117",
     "exception": false,
     "start_time": "2021-08-06T03:19:07.591729",
     "status": "completed"
    },
    "tags": []
   },
   "source": [
    "as we notice from the graph females have large survival rate in class one then class two and the lowest one in class three.\n",
    "we notice the same in males."
   ]
  },
  {
   "cell_type": "code",
   "execution_count": 13,
   "id": "47174ce7",
   "metadata": {
    "execution": {
     "iopub.execute_input": "2021-08-06T03:19:07.706446Z",
     "iopub.status.busy": "2021-08-06T03:19:07.705546Z",
     "iopub.status.idle": "2021-08-06T03:19:07.888829Z",
     "shell.execute_reply": "2021-08-06T03:19:07.889234Z"
    },
    "papermill": {
     "duration": 0.223549,
     "end_time": "2021-08-06T03:19:07.889424",
     "exception": false,
     "start_time": "2021-08-06T03:19:07.665875",
     "status": "completed"
    },
    "tags": []
   },
   "outputs": [
    {
     "data": {
      "image/png": "[encoded data removed]",
      "text/plain": [
       "<Figure size 432x288 with 1 Axes>"
      ]
     },
     "metadata": {
      "needs_background": "light"
     },
     "output_type": "display_data"
    }
   ],
   "source": [
    "#plot the relationship between Pclass and Fare\n",
    "sns.barplot(x='Pclass',y='Fare',data=train);"
   ]
  },
  {
   "cell_type": "code",
   "execution_count": 14,
   "id": "f3e65d84",
   "metadata": {
    "execution": {
     "iopub.execute_input": "2021-08-06T03:19:07.967928Z",
     "iopub.status.busy": "2021-08-06T03:19:07.967032Z",
     "iopub.status.idle": "2021-08-06T03:19:08.126989Z",
     "shell.execute_reply": "2021-08-06T03:19:08.127421Z"
    },
    "papermill": {
     "duration": 0.201,
     "end_time": "2021-08-06T03:19:08.127594",
     "exception": false,
     "start_time": "2021-08-06T03:19:07.926594",
     "status": "completed"
    },
    "tags": []
   },
   "outputs": [
    {
     "data": {
      "image/png": "[encoded data removed]",
      "text/plain": [
       "<Figure size 432x288 with 1 Axes>"
      ]
     },
     "metadata": {
      "needs_background": "light"
     },
     "output_type": "display_data"
    }
   ],
   "source": [
    "#plot the relationship between the surviving and Fare\n",
    "sns.barplot(x='Survived',y='Fare',data=train);"
   ]
  },
  {
   "cell_type": "markdown",
   "id": "153c6586",
   "metadata": {
    "papermill": {
     "duration": 0.03868,
     "end_time": "2021-08-06T03:19:08.203617",
     "exception": false,
     "start_time": "2021-08-06T03:19:08.164937",
     "status": "completed"
    },
    "tags": []
   },
   "source": [
    "#### the answer of question 2:\n",
    "- yes the passenger's social level affect his surviving.\n",
    "- the highest survival rate found in calass 1 then 2 and the lowest is in class 3.\n",
    "- the ticket fare also has a strong relationship with surviving ,as the fare increase the surviving rate increase too."
   ]
  },
  {
   "cell_type": "markdown",
   "id": "c154ec02",
   "metadata": {
    "papermill": {
     "duration": 0.037989,
     "end_time": "2021-08-06T03:19:08.280218",
     "exception": false,
     "start_time": "2021-08-06T03:19:08.242229",
     "status": "completed"
    },
    "tags": []
   },
   "source": [
    "### more explore and analysis for Age and Name"
   ]
  },
  {
   "cell_type": "markdown",
   "id": "a74a3cb0",
   "metadata": {
    "papermill": {
     "duration": 0.038704,
     "end_time": "2021-08-06T03:19:08.356589",
     "exception": false,
     "start_time": "2021-08-06T03:19:08.317885",
     "status": "completed"
    },
    "tags": []
   },
   "source": [
    "#### missing data"
   ]
  },
  {
   "cell_type": "code",
   "execution_count": 15,
   "id": "bfb8cbfb",
   "metadata": {
    "execution": {
     "iopub.execute_input": "2021-08-06T03:19:08.437082Z",
     "iopub.status.busy": "2021-08-06T03:19:08.436213Z",
     "iopub.status.idle": "2021-08-06T03:19:08.441865Z",
     "shell.execute_reply": "2021-08-06T03:19:08.442312Z"
    },
    "papermill": {
     "duration": 0.046908,
     "end_time": "2021-08-06T03:19:08.442514",
     "exception": false,
     "start_time": "2021-08-06T03:19:08.395606",
     "status": "completed"
    },
    "tags": []
   },
   "outputs": [
    {
     "data": {
      "text/plain": [
       "177"
      ]
     },
     "execution_count": 15,
     "metadata": {},
     "output_type": "execute_result"
    }
   ],
   "source": [
    "#missing data for Age column\n",
    "train['Age'].isnull().sum()"
   ]
  },
  {
   "cell_type": "markdown",
   "id": "1533a817",
   "metadata": {
    "papermill": {
     "duration": 0.037851,
     "end_time": "2021-08-06T03:19:08.518085",
     "exception": false,
     "start_time": "2021-08-06T03:19:08.480234",
     "status": "completed"
    },
    "tags": []
   },
   "source": [
    "to impute the missing data in Age columns we find it's relationshp with Name column"
   ]
  },
  {
   "cell_type": "code",
   "execution_count": 16,
   "id": "8154fdc2",
   "metadata": {
    "execution": {
     "iopub.execute_input": "2021-08-06T03:19:08.600645Z",
     "iopub.status.busy": "2021-08-06T03:19:08.599671Z",
     "iopub.status.idle": "2021-08-06T03:19:08.604108Z",
     "shell.execute_reply": "2021-08-06T03:19:08.604655Z"
    },
    "papermill": {
     "duration": 0.048533,
     "end_time": "2021-08-06T03:19:08.604823",
     "exception": false,
     "start_time": "2021-08-06T03:19:08.556290",
     "status": "completed"
    },
    "tags": []
   },
   "outputs": [
    {
     "data": {
      "text/plain": [
       "array(['Braund, Mr. Owen Harris',\n",
       "       'Cumings, Mrs. John Bradley (Florence Briggs Thayer)',\n",
       "       'Heikkinen, Miss. Laina',\n",
       "       'Futrelle, Mrs. Jacques Heath (Lily May Peel)',\n",
       "       'Allen, Mr. William Henry'], dtype=object)"
      ]
     },
     "execution_count": 16,
     "metadata": {},
     "output_type": "execute_result"
    }
   ],
   "source": [
    "train['Name'].unique()[:5]"
   ]
  },
  {
   "cell_type": "code",
   "execution_count": 17,
   "id": "f544ed94",
   "metadata": {
    "execution": {
     "iopub.execute_input": "2021-08-06T03:19:08.686617Z",
     "iopub.status.busy": "2021-08-06T03:19:08.685852Z",
     "iopub.status.idle": "2021-08-06T03:19:08.704597Z",
     "shell.execute_reply": "2021-08-06T03:19:08.705041Z"
    },
    "papermill": {
     "duration": 0.061538,
     "end_time": "2021-08-06T03:19:08.705217",
     "exception": false,
     "start_time": "2021-08-06T03:19:08.643679",
     "status": "completed"
    },
    "tags": []
   },
   "outputs": [
    {
     "data": {
      "text/html": [
       "<div>\n",
       "<style scoped>\n",
       "    .dataframe tbody tr th:only-of-type {\n",
       "        vertical-align: middle;\n",
       "    }\n",
       "\n",
       "    .dataframe tbody tr th {\n",
       "        vertical-align: top;\n",
       "    }\n",
       "\n",
       "    .dataframe thead th {\n",
       "        text-align: right;\n",
       "    }\n",
       "</style>\n",
       "<table border=\"1\" class=\"dataframe\">\n",
       "  <thead>\n",
       "    <tr style=\"text-align: right;\">\n",
       "      <th></th>\n",
       "      <th>PassengerId</th>\n",
       "      <th>Survived</th>\n",
       "      <th>Pclass</th>\n",
       "      <th>Name</th>\n",
       "      <th>Sex</th>\n",
       "      <th>Age</th>\n",
       "      <th>SibSp</th>\n",
       "      <th>Parch</th>\n",
       "      <th>Ticket</th>\n",
       "      <th>Fare</th>\n",
       "      <th>Cabin</th>\n",
       "      <th>Embarked</th>\n",
       "      <th>Title</th>\n",
       "    </tr>\n",
       "  </thead>\n",
       "  <tbody>\n",
       "    <tr>\n",
       "      <th>0</th>\n",
       "      <td>1</td>\n",
       "      <td>0</td>\n",
       "      <td>3</td>\n",
       "      <td>Braund, Mr. Owen Harris</td>\n",
       "      <td>male</td>\n",
       "      <td>22.0</td>\n",
       "      <td>1</td>\n",
       "      <td>0</td>\n",
       "      <td>A/5 21171</td>\n",
       "      <td>7.2500</td>\n",
       "      <td>NaN</td>\n",
       "      <td>S</td>\n",
       "      <td>Mr</td>\n",
       "    </tr>\n",
       "    <tr>\n",
       "      <th>1</th>\n",
       "      <td>2</td>\n",
       "      <td>1</td>\n",
       "      <td>1</td>\n",
       "      <td>Cumings, Mrs. John Bradley (Florence Briggs Th...</td>\n",
       "      <td>female</td>\n",
       "      <td>38.0</td>\n",
       "      <td>1</td>\n",
       "      <td>0</td>\n",
       "      <td>PC 17599</td>\n",
       "      <td>71.2833</td>\n",
       "      <td>C85</td>\n",
       "      <td>C</td>\n",
       "      <td>Mrs</td>\n",
       "    </tr>\n",
       "    <tr>\n",
       "      <th>2</th>\n",
       "      <td>3</td>\n",
       "      <td>1</td>\n",
       "      <td>3</td>\n",
       "      <td>Heikkinen, Miss. Laina</td>\n",
       "      <td>female</td>\n",
       "      <td>26.0</td>\n",
       "      <td>0</td>\n",
       "      <td>0</td>\n",
       "      <td>STON/O2. 3101282</td>\n",
       "      <td>7.9250</td>\n",
       "      <td>NaN</td>\n",
       "      <td>S</td>\n",
       "      <td>Miss</td>\n",
       "    </tr>\n",
       "    <tr>\n",
       "      <th>3</th>\n",
       "      <td>4</td>\n",
       "      <td>1</td>\n",
       "      <td>1</td>\n",
       "      <td>Futrelle, Mrs. Jacques Heath (Lily May Peel)</td>\n",
       "      <td>female</td>\n",
       "      <td>35.0</td>\n",
       "      <td>1</td>\n",
       "      <td>0</td>\n",
       "      <td>113803</td>\n",
       "      <td>53.1000</td>\n",
       "      <td>C123</td>\n",
       "      <td>S</td>\n",
       "      <td>Mrs</td>\n",
       "    </tr>\n",
       "    <tr>\n",
       "      <th>4</th>\n",
       "      <td>5</td>\n",
       "      <td>0</td>\n",
       "      <td>3</td>\n",
       "      <td>Allen, Mr. William Henry</td>\n",
       "      <td>male</td>\n",
       "      <td>35.0</td>\n",
       "      <td>0</td>\n",
       "      <td>0</td>\n",
       "      <td>373450</td>\n",
       "      <td>8.0500</td>\n",
       "      <td>NaN</td>\n",
       "      <td>S</td>\n",
       "      <td>Mr</td>\n",
       "    </tr>\n",
       "  </tbody>\n",
       "</table>\n",
       "</div>"
      ],
      "text/plain": [
       "   PassengerId  Survived  Pclass  \\\n",
       "0            1         0       3   \n",
       "1            2         1       1   \n",
       "2            3         1       3   \n",
       "3            4         1       1   \n",
       "4            5         0       3   \n",
       "\n",
       "                                                Name     Sex   Age  SibSp  \\\n",
       "0                            Braund, Mr. Owen Harris    male  22.0      1   \n",
       "1  Cumings, Mrs. John Bradley (Florence Briggs Th...  female  38.0      1   \n",
       "2                             Heikkinen, Miss. Laina  female  26.0      0   \n",
       "3       Futrelle, Mrs. Jacques Heath (Lily May Peel)  female  35.0      1   \n",
       "4                           Allen, Mr. William Henry    male  35.0      0   \n",
       "\n",
       "   Parch            Ticket     Fare Cabin Embarked Title  \n",
       "0      0         A/5 21171   7.2500   NaN        S    Mr  \n",
       "1      0          PC 17599  71.2833   C85        C   Mrs  \n",
       "2      0  STON/O2. 3101282   7.9250   NaN        S  Miss  \n",
       "3      0            113803  53.1000  C123        S   Mrs  \n",
       "4      0            373450   8.0500   NaN        S    Mr  "
      ]
     },
     "execution_count": 17,
     "metadata": {},
     "output_type": "execute_result"
    }
   ],
   "source": [
    "#Extract titles from Name (training data)\n",
    "train['Title']=0\n",
    "train['Title']=train['Name'].str.extract('([A-Za-z]+)\\.', expand=False)\n",
    "train.head()"
   ]
  },
  {
   "cell_type": "code",
   "execution_count": 18,
   "id": "55cfd975",
   "metadata": {
    "execution": {
     "iopub.execute_input": "2021-08-06T03:19:08.787895Z",
     "iopub.status.busy": "2021-08-06T03:19:08.787281Z",
     "iopub.status.idle": "2021-08-06T03:19:09.256442Z",
     "shell.execute_reply": "2021-08-06T03:19:09.256874Z"
    },
    "papermill": {
     "duration": 0.513016,
     "end_time": "2021-08-06T03:19:09.257048",
     "exception": false,
     "start_time": "2021-08-06T03:19:08.744032",
     "status": "completed"
    },
    "tags": []
   },
   "outputs": [
    {
     "data": {
      "image/png": "[encoded data removed]",
      "text/plain": [
       "<Figure size 1080x360 with 1 Axes>"
      ]
     },
     "metadata": {
      "needs_background": "light"
     },
     "output_type": "display_data"
    }
   ],
   "source": [
    "#barplot between Age and Title features\n",
    "plt.figure(figsize=(15,5))\n",
    "sns.barplot(x='Title',y='Age',data=train);"
   ]
  },
  {
   "cell_type": "markdown",
   "id": "9d8df459",
   "metadata": {
    "papermill": {
     "duration": 0.040957,
     "end_time": "2021-08-06T03:19:09.337930",
     "exception": false,
     "start_time": "2021-08-06T03:19:09.296973",
     "status": "completed"
    },
    "tags": []
   },
   "source": [
    "from the graph we can see there is a very good relationship between Age and Title so we can use this relation to handle with missing data in Age column."
   ]
  },
  {
   "cell_type": "code",
   "execution_count": 19,
   "id": "f901b7a7",
   "metadata": {
    "execution": {
     "iopub.execute_input": "2021-08-06T03:19:09.421268Z",
     "iopub.status.busy": "2021-08-06T03:19:09.420696Z",
     "iopub.status.idle": "2021-08-06T03:19:09.427636Z",
     "shell.execute_reply": "2021-08-06T03:19:09.427113Z"
    },
    "papermill": {
     "duration": 0.050146,
     "end_time": "2021-08-06T03:19:09.427778",
     "exception": false,
     "start_time": "2021-08-06T03:19:09.377632",
     "status": "completed"
    },
    "tags": []
   },
   "outputs": [
    {
     "data": {
      "text/plain": [
       "array(['Mr', 'Mrs', 'Miss', 'Master', 'Don', 'Rev', 'Dr', 'Mme', 'Major',\n",
       "       'Lady', 'Sir', 'Mlle', 'Col', 'Capt', 'Countess', 'Jonkheer'],\n",
       "      dtype=object)"
      ]
     },
     "execution_count": 19,
     "metadata": {},
     "output_type": "execute_result"
    }
   ],
   "source": [
    "#replace Ms title with Miss to avoid some problems with missing data handling\n",
    "train['Title'] = train['Title'].replace('Ms', 'Miss')\n",
    "train['Title'].unique()"
   ]
  },
  {
   "cell_type": "code",
   "execution_count": 20,
   "id": "8e6103f1",
   "metadata": {
    "execution": {
     "iopub.execute_input": "2021-08-06T03:19:09.515616Z",
     "iopub.status.busy": "2021-08-06T03:19:09.512849Z",
     "iopub.status.idle": "2021-08-06T03:19:09.520253Z",
     "shell.execute_reply": "2021-08-06T03:19:09.519758Z"
    },
    "papermill": {
     "duration": 0.052424,
     "end_time": "2021-08-06T03:19:09.520423",
     "exception": false,
     "start_time": "2021-08-06T03:19:09.467999",
     "status": "completed"
    },
    "tags": []
   },
   "outputs": [
    {
     "data": {
      "text/plain": [
       "Title\n",
       "Capt        70.0\n",
       "Col         58.0\n",
       "Countess    33.0\n",
       "Don         40.0\n",
       "Dr          42.0\n",
       "Name: Age, dtype: float64"
      ]
     },
     "execution_count": 20,
     "metadata": {},
     "output_type": "execute_result"
    }
   ],
   "source": [
    "#find the mean of ages \n",
    "MEAN=train.groupby('Title')['Age'].mean()\n",
    "MEAN.head()"
   ]
  },
  {
   "cell_type": "code",
   "execution_count": 21,
   "id": "372be5d1",
   "metadata": {
    "execution": {
     "iopub.execute_input": "2021-08-06T03:19:09.610041Z",
     "iopub.status.busy": "2021-08-06T03:19:09.609475Z",
     "iopub.status.idle": "2021-08-06T03:19:09.612136Z",
     "shell.execute_reply": "2021-08-06T03:19:09.612675Z"
    },
    "papermill": {
     "duration": 0.050176,
     "end_time": "2021-08-06T03:19:09.612842",
     "exception": false,
     "start_time": "2021-08-06T03:19:09.562666",
     "status": "completed"
    },
    "tags": []
   },
   "outputs": [
    {
     "data": {
      "text/plain": [
       "{'Capt': 70.0,\n",
       " 'Col': 58.0,\n",
       " 'Countess': 33.0,\n",
       " 'Don': 40.0,\n",
       " 'Dr': 42.0,\n",
       " 'Jonkheer': 38.0,\n",
       " 'Lady': 48.0,\n",
       " 'Major': 48.5,\n",
       " 'Master': 4.574166666666667,\n",
       " 'Miss': 21.816326530612244,\n",
       " 'Mlle': 24.0,\n",
       " 'Mme': 24.0,\n",
       " 'Mr': 32.368090452261306,\n",
       " 'Mrs': 35.898148148148145,\n",
       " 'Rev': 43.166666666666664,\n",
       " 'Sir': 49.0}"
      ]
     },
     "execution_count": 21,
     "metadata": {},
     "output_type": "execute_result"
    }
   ],
   "source": [
    "#Transform MEAN to dictionary\n",
    "dict_MEAN=MEAN.to_dict()\n",
    "dict_MEAN"
   ]
  },
  {
   "cell_type": "code",
   "execution_count": 22,
   "id": "2e29c0a9",
   "metadata": {
    "execution": {
     "iopub.execute_input": "2021-08-06T03:19:09.702211Z",
     "iopub.status.busy": "2021-08-06T03:19:09.701602Z",
     "iopub.status.idle": "2021-08-06T03:19:09.722941Z",
     "shell.execute_reply": "2021-08-06T03:19:09.723463Z"
    },
    "papermill": {
     "duration": 0.067194,
     "end_time": "2021-08-06T03:19:09.723637",
     "exception": false,
     "start_time": "2021-08-06T03:19:09.656443",
     "status": "completed"
    },
    "tags": []
   },
   "outputs": [
    {
     "data": {
      "text/html": [
       "<div>\n",
       "<style scoped>\n",
       "    .dataframe tbody tr th:only-of-type {\n",
       "        vertical-align: middle;\n",
       "    }\n",
       "\n",
       "    .dataframe tbody tr th {\n",
       "        vertical-align: top;\n",
       "    }\n",
       "\n",
       "    .dataframe thead th {\n",
       "        text-align: right;\n",
       "    }\n",
       "</style>\n",
       "<table border=\"1\" class=\"dataframe\">\n",
       "  <thead>\n",
       "    <tr style=\"text-align: right;\">\n",
       "      <th></th>\n",
       "      <th>PassengerId</th>\n",
       "      <th>Survived</th>\n",
       "      <th>Pclass</th>\n",
       "      <th>Name</th>\n",
       "      <th>Sex</th>\n",
       "      <th>Age</th>\n",
       "      <th>SibSp</th>\n",
       "      <th>Parch</th>\n",
       "      <th>Ticket</th>\n",
       "      <th>Fare</th>\n",
       "      <th>Cabin</th>\n",
       "      <th>Embarked</th>\n",
       "      <th>Title</th>\n",
       "    </tr>\n",
       "  </thead>\n",
       "  <tbody>\n",
       "    <tr>\n",
       "      <th>0</th>\n",
       "      <td>1</td>\n",
       "      <td>0</td>\n",
       "      <td>3</td>\n",
       "      <td>Braund, Mr. Owen Harris</td>\n",
       "      <td>male</td>\n",
       "      <td>22.0</td>\n",
       "      <td>1</td>\n",
       "      <td>0</td>\n",
       "      <td>A/5 21171</td>\n",
       "      <td>7.2500</td>\n",
       "      <td>NaN</td>\n",
       "      <td>S</td>\n",
       "      <td>Mr</td>\n",
       "    </tr>\n",
       "    <tr>\n",
       "      <th>1</th>\n",
       "      <td>2</td>\n",
       "      <td>1</td>\n",
       "      <td>1</td>\n",
       "      <td>Cumings, Mrs. John Bradley (Florence Briggs Th...</td>\n",
       "      <td>female</td>\n",
       "      <td>38.0</td>\n",
       "      <td>1</td>\n",
       "      <td>0</td>\n",
       "      <td>PC 17599</td>\n",
       "      <td>71.2833</td>\n",
       "      <td>C85</td>\n",
       "      <td>C</td>\n",
       "      <td>Mrs</td>\n",
       "    </tr>\n",
       "    <tr>\n",
       "      <th>2</th>\n",
       "      <td>3</td>\n",
       "      <td>1</td>\n",
       "      <td>3</td>\n",
       "      <td>Heikkinen, Miss. Laina</td>\n",
       "      <td>female</td>\n",
       "      <td>26.0</td>\n",
       "      <td>0</td>\n",
       "      <td>0</td>\n",
       "      <td>STON/O2. 3101282</td>\n",
       "      <td>7.9250</td>\n",
       "      <td>NaN</td>\n",
       "      <td>S</td>\n",
       "      <td>Miss</td>\n",
       "    </tr>\n",
       "    <tr>\n",
       "      <th>3</th>\n",
       "      <td>4</td>\n",
       "      <td>1</td>\n",
       "      <td>1</td>\n",
       "      <td>Futrelle, Mrs. Jacques Heath (Lily May Peel)</td>\n",
       "      <td>female</td>\n",
       "      <td>35.0</td>\n",
       "      <td>1</td>\n",
       "      <td>0</td>\n",
       "      <td>113803</td>\n",
       "      <td>53.1000</td>\n",
       "      <td>C123</td>\n",
       "      <td>S</td>\n",
       "      <td>Mrs</td>\n",
       "    </tr>\n",
       "    <tr>\n",
       "      <th>4</th>\n",
       "      <td>5</td>\n",
       "      <td>0</td>\n",
       "      <td>3</td>\n",
       "      <td>Allen, Mr. William Henry</td>\n",
       "      <td>male</td>\n",
       "      <td>35.0</td>\n",
       "      <td>0</td>\n",
       "      <td>0</td>\n",
       "      <td>373450</td>\n",
       "      <td>8.0500</td>\n",
       "      <td>NaN</td>\n",
       "      <td>S</td>\n",
       "      <td>Mr</td>\n",
       "    </tr>\n",
       "  </tbody>\n",
       "</table>\n",
       "</div>"
      ],
      "text/plain": [
       "   PassengerId  Survived  Pclass  \\\n",
       "0            1         0       3   \n",
       "1            2         1       1   \n",
       "2            3         1       3   \n",
       "3            4         1       1   \n",
       "4            5         0       3   \n",
       "\n",
       "                                                Name     Sex   Age  SibSp  \\\n",
       "0                            Braund, Mr. Owen Harris    male  22.0      1   \n",
       "1  Cumings, Mrs. John Bradley (Florence Briggs Th...  female  38.0      1   \n",
       "2                             Heikkinen, Miss. Laina  female  26.0      0   \n",
       "3       Futrelle, Mrs. Jacques Heath (Lily May Peel)  female  35.0      1   \n",
       "4                           Allen, Mr. William Henry    male  35.0      0   \n",
       "\n",
       "   Parch            Ticket     Fare Cabin Embarked Title  \n",
       "0      0         A/5 21171   7.2500   NaN        S    Mr  \n",
       "1      0          PC 17599  71.2833   C85        C   Mrs  \n",
       "2      0  STON/O2. 3101282   7.9250   NaN        S  Miss  \n",
       "3      0            113803  53.1000  C123        S   Mrs  \n",
       "4      0            373450   8.0500   NaN        S    Mr  "
      ]
     },
     "execution_count": 22,
     "metadata": {},
     "output_type": "execute_result"
    }
   ],
   "source": [
    "#impute ages based on titles\n",
    "indx_null_age=train.loc[train['Age'].isnull()].index\n",
    "train.loc[indx_null_age,'Age']=train.loc[indx_null_age,'Title'].map(dict_MEAN)\n",
    "train.head()"
   ]
  },
  {
   "cell_type": "code",
   "execution_count": 23,
   "id": "0f3a25f3",
   "metadata": {
    "execution": {
     "iopub.execute_input": "2021-08-06T03:19:09.812133Z",
     "iopub.status.busy": "2021-08-06T03:19:09.811322Z",
     "iopub.status.idle": "2021-08-06T03:19:09.816805Z",
     "shell.execute_reply": "2021-08-06T03:19:09.816072Z"
    },
    "papermill": {
     "duration": 0.052278,
     "end_time": "2021-08-06T03:19:09.816949",
     "exception": false,
     "start_time": "2021-08-06T03:19:09.764671",
     "status": "completed"
    },
    "tags": []
   },
   "outputs": [
    {
     "data": {
      "text/plain": [
       "0"
      ]
     },
     "execution_count": 23,
     "metadata": {},
     "output_type": "execute_result"
    }
   ],
   "source": [
    "#chack missing data again\n",
    "train['Age'].isnull().sum()"
   ]
  },
  {
   "cell_type": "code",
   "execution_count": 24,
   "id": "20730be8",
   "metadata": {
    "execution": {
     "iopub.execute_input": "2021-08-06T03:19:09.910187Z",
     "iopub.status.busy": "2021-08-06T03:19:09.909478Z",
     "iopub.status.idle": "2021-08-06T03:19:13.249952Z",
     "shell.execute_reply": "2021-08-06T03:19:13.249414Z"
    },
    "papermill": {
     "duration": 3.38947,
     "end_time": "2021-08-06T03:19:13.250086",
     "exception": false,
     "start_time": "2021-08-06T03:19:09.860616",
     "status": "completed"
    },
    "tags": []
   },
   "outputs": [
    {
     "data": {
      "image/png": "[encoded data removed]",
      "text/plain": [
       "<Figure size 2160x1080 with 1 Axes>"
      ]
     },
     "metadata": {
      "needs_background": "light"
     },
     "output_type": "display_data"
    }
   ],
   "source": [
    "#plot Age and Survived fearures again to detect and select ageband from the graph\n",
    "plt.figure(figsize=(30,15))\n",
    "sns.barplot(x='Age',y='Survived',data=train)\n",
    "plt.xticks(rotation=90);"
   ]
  },
  {
   "cell_type": "markdown",
   "id": "478d7e4c",
   "metadata": {
    "papermill": {
     "duration": 0.044254,
     "end_time": "2021-08-06T03:19:13.339104",
     "exception": false,
     "start_time": "2021-08-06T03:19:13.294850",
     "status": "completed"
    },
    "tags": []
   },
   "source": [
    "according to the graph I will divide the Age to three bands in the range(0,15,48,80)"
   ]
  },
  {
   "cell_type": "code",
   "execution_count": 25,
   "id": "1f78df12",
   "metadata": {
    "execution": {
     "iopub.execute_input": "2021-08-06T03:19:13.440077Z",
     "iopub.status.busy": "2021-08-06T03:19:13.431103Z",
     "iopub.status.idle": "2021-08-06T03:19:13.451493Z",
     "shell.execute_reply": "2021-08-06T03:19:13.450870Z"
    },
    "papermill": {
     "duration": 0.069209,
     "end_time": "2021-08-06T03:19:13.451630",
     "exception": false,
     "start_time": "2021-08-06T03:19:13.382421",
     "status": "completed"
    },
    "tags": []
   },
   "outputs": [
    {
     "data": {
      "text/html": [
       "<div>\n",
       "<style scoped>\n",
       "    .dataframe tbody tr th:only-of-type {\n",
       "        vertical-align: middle;\n",
       "    }\n",
       "\n",
       "    .dataframe tbody tr th {\n",
       "        vertical-align: top;\n",
       "    }\n",
       "\n",
       "    .dataframe thead th {\n",
       "        text-align: right;\n",
       "    }\n",
       "</style>\n",
       "<table border=\"1\" class=\"dataframe\">\n",
       "  <thead>\n",
       "    <tr style=\"text-align: right;\">\n",
       "      <th></th>\n",
       "      <th>PassengerId</th>\n",
       "      <th>Survived</th>\n",
       "      <th>Pclass</th>\n",
       "      <th>Name</th>\n",
       "      <th>Sex</th>\n",
       "      <th>Age</th>\n",
       "      <th>SibSp</th>\n",
       "      <th>Parch</th>\n",
       "      <th>Ticket</th>\n",
       "      <th>Fare</th>\n",
       "      <th>Cabin</th>\n",
       "      <th>Embarked</th>\n",
       "      <th>Title</th>\n",
       "    </tr>\n",
       "  </thead>\n",
       "  <tbody>\n",
       "    <tr>\n",
       "      <th>0</th>\n",
       "      <td>1</td>\n",
       "      <td>0</td>\n",
       "      <td>3</td>\n",
       "      <td>Braund, Mr. Owen Harris</td>\n",
       "      <td>male</td>\n",
       "      <td>adult</td>\n",
       "      <td>1</td>\n",
       "      <td>0</td>\n",
       "      <td>A/5 21171</td>\n",
       "      <td>7.2500</td>\n",
       "      <td>NaN</td>\n",
       "      <td>S</td>\n",
       "      <td>Mr</td>\n",
       "    </tr>\n",
       "    <tr>\n",
       "      <th>1</th>\n",
       "      <td>2</td>\n",
       "      <td>1</td>\n",
       "      <td>1</td>\n",
       "      <td>Cumings, Mrs. John Bradley (Florence Briggs Th...</td>\n",
       "      <td>female</td>\n",
       "      <td>adult</td>\n",
       "      <td>1</td>\n",
       "      <td>0</td>\n",
       "      <td>PC 17599</td>\n",
       "      <td>71.2833</td>\n",
       "      <td>C85</td>\n",
       "      <td>C</td>\n",
       "      <td>Mrs</td>\n",
       "    </tr>\n",
       "    <tr>\n",
       "      <th>2</th>\n",
       "      <td>3</td>\n",
       "      <td>1</td>\n",
       "      <td>3</td>\n",
       "      <td>Heikkinen, Miss. Laina</td>\n",
       "      <td>female</td>\n",
       "      <td>adult</td>\n",
       "      <td>0</td>\n",
       "      <td>0</td>\n",
       "      <td>STON/O2. 3101282</td>\n",
       "      <td>7.9250</td>\n",
       "      <td>NaN</td>\n",
       "      <td>S</td>\n",
       "      <td>Miss</td>\n",
       "    </tr>\n",
       "    <tr>\n",
       "      <th>3</th>\n",
       "      <td>4</td>\n",
       "      <td>1</td>\n",
       "      <td>1</td>\n",
       "      <td>Futrelle, Mrs. Jacques Heath (Lily May Peel)</td>\n",
       "      <td>female</td>\n",
       "      <td>adult</td>\n",
       "      <td>1</td>\n",
       "      <td>0</td>\n",
       "      <td>113803</td>\n",
       "      <td>53.1000</td>\n",
       "      <td>C123</td>\n",
       "      <td>S</td>\n",
       "      <td>Mrs</td>\n",
       "    </tr>\n",
       "    <tr>\n",
       "      <th>4</th>\n",
       "      <td>5</td>\n",
       "      <td>0</td>\n",
       "      <td>3</td>\n",
       "      <td>Allen, Mr. William Henry</td>\n",
       "      <td>male</td>\n",
       "      <td>adult</td>\n",
       "      <td>0</td>\n",
       "      <td>0</td>\n",
       "      <td>373450</td>\n",
       "      <td>8.0500</td>\n",
       "      <td>NaN</td>\n",
       "      <td>S</td>\n",
       "      <td>Mr</td>\n",
       "    </tr>\n",
       "  </tbody>\n",
       "</table>\n",
       "</div>"
      ],
      "text/plain": [
       "   PassengerId  Survived  Pclass  \\\n",
       "0            1         0       3   \n",
       "1            2         1       1   \n",
       "2            3         1       3   \n",
       "3            4         1       1   \n",
       "4            5         0       3   \n",
       "\n",
       "                                                Name     Sex    Age  SibSp  \\\n",
       "0                            Braund, Mr. Owen Harris    male  adult      1   \n",
       "1  Cumings, Mrs. John Bradley (Florence Briggs Th...  female  adult      1   \n",
       "2                             Heikkinen, Miss. Laina  female  adult      0   \n",
       "3       Futrelle, Mrs. Jacques Heath (Lily May Peel)  female  adult      1   \n",
       "4                           Allen, Mr. William Henry    male  adult      0   \n",
       "\n",
       "   Parch            Ticket     Fare Cabin Embarked Title  \n",
       "0      0         A/5 21171   7.2500   NaN        S    Mr  \n",
       "1      0          PC 17599  71.2833   C85        C   Mrs  \n",
       "2      0  STON/O2. 3101282   7.9250   NaN        S  Miss  \n",
       "3      0            113803  53.1000  C123        S   Mrs  \n",
       "4      0            373450   8.0500   NaN        S    Mr  "
      ]
     },
     "execution_count": 25,
     "metadata": {},
     "output_type": "execute_result"
    }
   ],
   "source": [
    "#create Ageband\n",
    "train['Age']=pd.cut(train['Age'],bins=[0,15,48,80],labels=['child','adult','elder'])\n",
    "train.head()"
   ]
  },
  {
   "cell_type": "code",
   "execution_count": 26,
   "id": "f64c909f",
   "metadata": {
    "execution": {
     "iopub.execute_input": "2021-08-06T03:19:13.571750Z",
     "iopub.status.busy": "2021-08-06T03:19:13.564562Z",
     "iopub.status.idle": "2021-08-06T03:19:13.671461Z",
     "shell.execute_reply": "2021-08-06T03:19:13.670753Z"
    },
    "papermill": {
     "duration": 0.175534,
     "end_time": "2021-08-06T03:19:13.671606",
     "exception": false,
     "start_time": "2021-08-06T03:19:13.496072",
     "status": "completed"
    },
    "tags": []
   },
   "outputs": [
    {
     "data": {
      "image/png": "[encoded data removed]",
      "text/plain": [
       "<Figure size 432x288 with 1 Axes>"
      ]
     },
     "metadata": {
      "needs_background": "light"
     },
     "output_type": "display_data"
    }
   ],
   "source": [
    "#count plot for Age column after this modification\n",
    "sns.countplot(x='Age',data=train,palette='Greens');"
   ]
  },
  {
   "cell_type": "markdown",
   "id": "dac57022",
   "metadata": {
    "papermill": {
     "duration": 0.044304,
     "end_time": "2021-08-06T03:19:13.760291",
     "exception": false,
     "start_time": "2021-08-06T03:19:13.715987",
     "status": "completed"
    },
    "tags": []
   },
   "source": [
    "from the graph as we can see the most passengers were adults"
   ]
  },
  {
   "cell_type": "code",
   "execution_count": 27,
   "id": "8f88e738",
   "metadata": {
    "execution": {
     "iopub.execute_input": "2021-08-06T03:19:13.860676Z",
     "iopub.status.busy": "2021-08-06T03:19:13.856882Z",
     "iopub.status.idle": "2021-08-06T03:19:14.063343Z",
     "shell.execute_reply": "2021-08-06T03:19:14.062249Z"
    },
    "papermill": {
     "duration": 0.258617,
     "end_time": "2021-08-06T03:19:14.063507",
     "exception": false,
     "start_time": "2021-08-06T03:19:13.804890",
     "status": "completed"
    },
    "tags": []
   },
   "outputs": [
    {
     "data": {
      "image/png": "[encoded data removed]",
      "text/plain": [
       "<Figure size 432x288 with 1 Axes>"
      ]
     },
     "metadata": {
      "needs_background": "light"
     },
     "output_type": "display_data"
    }
   ],
   "source": [
    "#plot the relationsip between Age and survived\n",
    "sns.barplot(x='Age',y='Survived',data=train);\n"
   ]
  },
  {
   "cell_type": "markdown",
   "id": "bd59466f",
   "metadata": {
    "papermill": {
     "duration": 0.045447,
     "end_time": "2021-08-06T03:19:14.156966",
     "exception": false,
     "start_time": "2021-08-06T03:19:14.111519",
     "status": "completed"
    },
    "tags": []
   },
   "source": [
    "#### Q3: Does family size has an effect on survival rate?"
   ]
  },
  {
   "cell_type": "markdown",
   "id": "f06f6797",
   "metadata": {
    "papermill": {
     "duration": 0.044945,
     "end_time": "2021-08-06T03:19:14.246487",
     "exception": false,
     "start_time": "2021-08-06T03:19:14.201542",
     "status": "completed"
    },
    "tags": []
   },
   "source": [
    "to answer this question we have to create new features"
   ]
  },
  {
   "cell_type": "code",
   "execution_count": 28,
   "id": "ef52de99",
   "metadata": {
    "execution": {
     "iopub.execute_input": "2021-08-06T03:19:14.345628Z",
     "iopub.status.busy": "2021-08-06T03:19:14.344700Z",
     "iopub.status.idle": "2021-08-06T03:19:14.360152Z",
     "shell.execute_reply": "2021-08-06T03:19:14.360597Z"
    },
    "papermill": {
     "duration": 0.067471,
     "end_time": "2021-08-06T03:19:14.360777",
     "exception": false,
     "start_time": "2021-08-06T03:19:14.293306",
     "status": "completed"
    },
    "tags": []
   },
   "outputs": [
    {
     "data": {
      "text/html": [
       "<div>\n",
       "<style scoped>\n",
       "    .dataframe tbody tr th:only-of-type {\n",
       "        vertical-align: middle;\n",
       "    }\n",
       "\n",
       "    .dataframe tbody tr th {\n",
       "        vertical-align: top;\n",
       "    }\n",
       "\n",
       "    .dataframe thead th {\n",
       "        text-align: right;\n",
       "    }\n",
       "</style>\n",
       "<table border=\"1\" class=\"dataframe\">\n",
       "  <thead>\n",
       "    <tr style=\"text-align: right;\">\n",
       "      <th></th>\n",
       "      <th>PassengerId</th>\n",
       "      <th>Survived</th>\n",
       "      <th>Pclass</th>\n",
       "      <th>Name</th>\n",
       "      <th>Sex</th>\n",
       "      <th>Age</th>\n",
       "      <th>SibSp</th>\n",
       "      <th>Parch</th>\n",
       "      <th>Ticket</th>\n",
       "      <th>Fare</th>\n",
       "      <th>Cabin</th>\n",
       "      <th>Embarked</th>\n",
       "      <th>Title</th>\n",
       "      <th>Family size</th>\n",
       "    </tr>\n",
       "  </thead>\n",
       "  <tbody>\n",
       "    <tr>\n",
       "      <th>0</th>\n",
       "      <td>1</td>\n",
       "      <td>0</td>\n",
       "      <td>3</td>\n",
       "      <td>Braund, Mr. Owen Harris</td>\n",
       "      <td>male</td>\n",
       "      <td>adult</td>\n",
       "      <td>1</td>\n",
       "      <td>0</td>\n",
       "      <td>A/5 21171</td>\n",
       "      <td>7.2500</td>\n",
       "      <td>NaN</td>\n",
       "      <td>S</td>\n",
       "      <td>Mr</td>\n",
       "      <td>1</td>\n",
       "    </tr>\n",
       "    <tr>\n",
       "      <th>1</th>\n",
       "      <td>2</td>\n",
       "      <td>1</td>\n",
       "      <td>1</td>\n",
       "      <td>Cumings, Mrs. John Bradley (Florence Briggs Th...</td>\n",
       "      <td>female</td>\n",
       "      <td>adult</td>\n",
       "      <td>1</td>\n",
       "      <td>0</td>\n",
       "      <td>PC 17599</td>\n",
       "      <td>71.2833</td>\n",
       "      <td>C85</td>\n",
       "      <td>C</td>\n",
       "      <td>Mrs</td>\n",
       "      <td>1</td>\n",
       "    </tr>\n",
       "    <tr>\n",
       "      <th>2</th>\n",
       "      <td>3</td>\n",
       "      <td>1</td>\n",
       "      <td>3</td>\n",
       "      <td>Heikkinen, Miss. Laina</td>\n",
       "      <td>female</td>\n",
       "      <td>adult</td>\n",
       "      <td>0</td>\n",
       "      <td>0</td>\n",
       "      <td>STON/O2. 3101282</td>\n",
       "      <td>7.9250</td>\n",
       "      <td>NaN</td>\n",
       "      <td>S</td>\n",
       "      <td>Miss</td>\n",
       "      <td>0</td>\n",
       "    </tr>\n",
       "    <tr>\n",
       "      <th>3</th>\n",
       "      <td>4</td>\n",
       "      <td>1</td>\n",
       "      <td>1</td>\n",
       "      <td>Futrelle, Mrs. Jacques Heath (Lily May Peel)</td>\n",
       "      <td>female</td>\n",
       "      <td>adult</td>\n",
       "      <td>1</td>\n",
       "      <td>0</td>\n",
       "      <td>113803</td>\n",
       "      <td>53.1000</td>\n",
       "      <td>C123</td>\n",
       "      <td>S</td>\n",
       "      <td>Mrs</td>\n",
       "      <td>1</td>\n",
       "    </tr>\n",
       "    <tr>\n",
       "      <th>4</th>\n",
       "      <td>5</td>\n",
       "      <td>0</td>\n",
       "      <td>3</td>\n",
       "      <td>Allen, Mr. William Henry</td>\n",
       "      <td>male</td>\n",
       "      <td>adult</td>\n",
       "      <td>0</td>\n",
       "      <td>0</td>\n",
       "      <td>373450</td>\n",
       "      <td>8.0500</td>\n",
       "      <td>NaN</td>\n",
       "      <td>S</td>\n",
       "      <td>Mr</td>\n",
       "      <td>0</td>\n",
       "    </tr>\n",
       "  </tbody>\n",
       "</table>\n",
       "</div>"
      ],
      "text/plain": [
       "   PassengerId  Survived  Pclass  \\\n",
       "0            1         0       3   \n",
       "1            2         1       1   \n",
       "2            3         1       3   \n",
       "3            4         1       1   \n",
       "4            5         0       3   \n",
       "\n",
       "                                                Name     Sex    Age  SibSp  \\\n",
       "0                            Braund, Mr. Owen Harris    male  adult      1   \n",
       "1  Cumings, Mrs. John Bradley (Florence Briggs Th...  female  adult      1   \n",
       "2                             Heikkinen, Miss. Laina  female  adult      0   \n",
       "3       Futrelle, Mrs. Jacques Heath (Lily May Peel)  female  adult      1   \n",
       "4                           Allen, Mr. William Henry    male  adult      0   \n",
       "\n",
       "   Parch            Ticket     Fare Cabin Embarked Title  Family size  \n",
       "0      0         A/5 21171   7.2500   NaN        S    Mr            1  \n",
       "1      0          PC 17599  71.2833   C85        C   Mrs            1  \n",
       "2      0  STON/O2. 3101282   7.9250   NaN        S  Miss            0  \n",
       "3      0            113803  53.1000  C123        S   Mrs            1  \n",
       "4      0            373450   8.0500   NaN        S    Mr            0  "
      ]
     },
     "execution_count": 28,
     "metadata": {},
     "output_type": "execute_result"
    }
   ],
   "source": [
    "#create new feature from SibSp and Parch features\n",
    "train['Family size']=train['SibSp']+train['Parch']\n",
    "train.head()"
   ]
  },
  {
   "cell_type": "code",
   "execution_count": 29,
   "id": "a0d298c6",
   "metadata": {
    "execution": {
     "iopub.execute_input": "2021-08-06T03:19:14.456091Z",
     "iopub.status.busy": "2021-08-06T03:19:14.455207Z",
     "iopub.status.idle": "2021-08-06T03:19:14.839649Z",
     "shell.execute_reply": "2021-08-06T03:19:14.840084Z"
    },
    "papermill": {
     "duration": 0.434374,
     "end_time": "2021-08-06T03:19:14.840283",
     "exception": false,
     "start_time": "2021-08-06T03:19:14.405909",
     "status": "completed"
    },
    "tags": []
   },
   "outputs": [
    {
     "data": {
      "image/png": "[encoded data removed]",
      "text/plain": [
       "<Figure size 432x288 with 1 Axes>"
      ]
     },
     "metadata": {
      "needs_background": "light"
     },
     "output_type": "display_data"
    }
   ],
   "source": [
    "#plot the relationsip between Family size and survived\n",
    "sns.barplot(x='Family size',y='Survived',data=train);\n"
   ]
  },
  {
   "cell_type": "code",
   "execution_count": 30,
   "id": "a72b70c9",
   "metadata": {
    "execution": {
     "iopub.execute_input": "2021-08-06T03:19:14.938487Z",
     "iopub.status.busy": "2021-08-06T03:19:14.937518Z",
     "iopub.status.idle": "2021-08-06T03:19:14.956447Z",
     "shell.execute_reply": "2021-08-06T03:19:14.956928Z"
    },
    "papermill": {
     "duration": 0.070559,
     "end_time": "2021-08-06T03:19:14.957096",
     "exception": false,
     "start_time": "2021-08-06T03:19:14.886537",
     "status": "completed"
    },
    "tags": []
   },
   "outputs": [
    {
     "data": {
      "text/html": [
       "<div>\n",
       "<style scoped>\n",
       "    .dataframe tbody tr th:only-of-type {\n",
       "        vertical-align: middle;\n",
       "    }\n",
       "\n",
       "    .dataframe tbody tr th {\n",
       "        vertical-align: top;\n",
       "    }\n",
       "\n",
       "    .dataframe thead th {\n",
       "        text-align: right;\n",
       "    }\n",
       "</style>\n",
       "<table border=\"1\" class=\"dataframe\">\n",
       "  <thead>\n",
       "    <tr style=\"text-align: right;\">\n",
       "      <th></th>\n",
       "      <th>PassengerId</th>\n",
       "      <th>Survived</th>\n",
       "      <th>Pclass</th>\n",
       "      <th>Name</th>\n",
       "      <th>Sex</th>\n",
       "      <th>Age</th>\n",
       "      <th>SibSp</th>\n",
       "      <th>Parch</th>\n",
       "      <th>Ticket</th>\n",
       "      <th>Fare</th>\n",
       "      <th>Cabin</th>\n",
       "      <th>Embarked</th>\n",
       "      <th>Title</th>\n",
       "      <th>Family size</th>\n",
       "      <th>Isalone</th>\n",
       "    </tr>\n",
       "  </thead>\n",
       "  <tbody>\n",
       "    <tr>\n",
       "      <th>0</th>\n",
       "      <td>1</td>\n",
       "      <td>0</td>\n",
       "      <td>3</td>\n",
       "      <td>Braund, Mr. Owen Harris</td>\n",
       "      <td>male</td>\n",
       "      <td>adult</td>\n",
       "      <td>1</td>\n",
       "      <td>0</td>\n",
       "      <td>A/5 21171</td>\n",
       "      <td>7.2500</td>\n",
       "      <td>NaN</td>\n",
       "      <td>S</td>\n",
       "      <td>Mr</td>\n",
       "      <td>1</td>\n",
       "      <td>1</td>\n",
       "    </tr>\n",
       "    <tr>\n",
       "      <th>1</th>\n",
       "      <td>2</td>\n",
       "      <td>1</td>\n",
       "      <td>1</td>\n",
       "      <td>Cumings, Mrs. John Bradley (Florence Briggs Th...</td>\n",
       "      <td>female</td>\n",
       "      <td>adult</td>\n",
       "      <td>1</td>\n",
       "      <td>0</td>\n",
       "      <td>PC 17599</td>\n",
       "      <td>71.2833</td>\n",
       "      <td>C85</td>\n",
       "      <td>C</td>\n",
       "      <td>Mrs</td>\n",
       "      <td>1</td>\n",
       "      <td>1</td>\n",
       "    </tr>\n",
       "    <tr>\n",
       "      <th>2</th>\n",
       "      <td>3</td>\n",
       "      <td>1</td>\n",
       "      <td>3</td>\n",
       "      <td>Heikkinen, Miss. Laina</td>\n",
       "      <td>female</td>\n",
       "      <td>adult</td>\n",
       "      <td>0</td>\n",
       "      <td>0</td>\n",
       "      <td>STON/O2. 3101282</td>\n",
       "      <td>7.9250</td>\n",
       "      <td>NaN</td>\n",
       "      <td>S</td>\n",
       "      <td>Miss</td>\n",
       "      <td>0</td>\n",
       "      <td>0</td>\n",
       "    </tr>\n",
       "    <tr>\n",
       "      <th>3</th>\n",
       "      <td>4</td>\n",
       "      <td>1</td>\n",
       "      <td>1</td>\n",
       "      <td>Futrelle, Mrs. Jacques Heath (Lily May Peel)</td>\n",
       "      <td>female</td>\n",
       "      <td>adult</td>\n",
       "      <td>1</td>\n",
       "      <td>0</td>\n",
       "      <td>113803</td>\n",
       "      <td>53.1000</td>\n",
       "      <td>C123</td>\n",
       "      <td>S</td>\n",
       "      <td>Mrs</td>\n",
       "      <td>1</td>\n",
       "      <td>1</td>\n",
       "    </tr>\n",
       "    <tr>\n",
       "      <th>4</th>\n",
       "      <td>5</td>\n",
       "      <td>0</td>\n",
       "      <td>3</td>\n",
       "      <td>Allen, Mr. William Henry</td>\n",
       "      <td>male</td>\n",
       "      <td>adult</td>\n",
       "      <td>0</td>\n",
       "      <td>0</td>\n",
       "      <td>373450</td>\n",
       "      <td>8.0500</td>\n",
       "      <td>NaN</td>\n",
       "      <td>S</td>\n",
       "      <td>Mr</td>\n",
       "      <td>0</td>\n",
       "      <td>0</td>\n",
       "    </tr>\n",
       "  </tbody>\n",
       "</table>\n",
       "</div>"
      ],
      "text/plain": [
       "   PassengerId  Survived  Pclass  \\\n",
       "0            1         0       3   \n",
       "1            2         1       1   \n",
       "2            3         1       3   \n",
       "3            4         1       1   \n",
       "4            5         0       3   \n",
       "\n",
       "                                                Name     Sex    Age  SibSp  \\\n",
       "0                            Braund, Mr. Owen Harris    male  adult      1   \n",
       "1  Cumings, Mrs. John Bradley (Florence Briggs Th...  female  adult      1   \n",
       "2                             Heikkinen, Miss. Laina  female  adult      0   \n",
       "3       Futrelle, Mrs. Jacques Heath (Lily May Peel)  female  adult      1   \n",
       "4                           Allen, Mr. William Henry    male  adult      0   \n",
       "\n",
       "   Parch            Ticket     Fare Cabin Embarked Title  Family size  Isalone  \n",
       "0      0         A/5 21171   7.2500   NaN        S    Mr            1        1  \n",
       "1      0          PC 17599  71.2833   C85        C   Mrs            1        1  \n",
       "2      0  STON/O2. 3101282   7.9250   NaN        S  Miss            0        0  \n",
       "3      0            113803  53.1000  C123        S   Mrs            1        1  \n",
       "4      0            373450   8.0500   NaN        S    Mr            0        0  "
      ]
     },
     "execution_count": 30,
     "metadata": {},
     "output_type": "execute_result"
    }
   ],
   "source": [
    "#create Isalone feature\n",
    "train['Isalone']=0\n",
    "train.loc[train['Family size']==1,'Isalone']=1\n",
    "train.head()"
   ]
  },
  {
   "cell_type": "code",
   "execution_count": 31,
   "id": "6666e328",
   "metadata": {
    "execution": {
     "iopub.execute_input": "2021-08-06T03:19:15.058232Z",
     "iopub.status.busy": "2021-08-06T03:19:15.057503Z",
     "iopub.status.idle": "2021-08-06T03:19:15.376483Z",
     "shell.execute_reply": "2021-08-06T03:19:15.376930Z"
    },
    "papermill": {
     "duration": 0.373565,
     "end_time": "2021-08-06T03:19:15.377089",
     "exception": false,
     "start_time": "2021-08-06T03:19:15.003524",
     "status": "completed"
    },
    "scrolled": true,
    "tags": []
   },
   "outputs": [
    {
     "data": {
      "image/png": "[encoded data removed]",
      "text/plain": [
       "<Figure size 432x288 with 1 Axes>"
      ]
     },
     "metadata": {
      "needs_background": "light"
     },
     "output_type": "display_data"
    }
   ],
   "source": [
    "#plot the relationsip between Isalone and survived\n",
    "sns.barplot(x='Isalone',y='Survived',data=train);\n"
   ]
  },
  {
   "cell_type": "markdown",
   "id": "6dd3bb06",
   "metadata": {
    "papermill": {
     "duration": 0.046791,
     "end_time": "2021-08-06T03:19:15.470310",
     "exception": false,
     "start_time": "2021-08-06T03:19:15.423519",
     "status": "completed"
    },
    "tags": []
   },
   "source": [
    "from these above graphs we notice that there is a strong relationship between Isalone and Surviving than with Family size so the passenger who is alone has more survival rate than the passenger with his family "
   ]
  },
  {
   "cell_type": "markdown",
   "id": "dc0485d9",
   "metadata": {
    "papermill": {
     "duration": 0.047065,
     "end_time": "2021-08-06T03:19:15.565089",
     "exception": false,
     "start_time": "2021-08-06T03:19:15.518024",
     "status": "completed"
    },
    "tags": []
   },
   "source": [
    "#### lets explore Embarked column"
   ]
  },
  {
   "cell_type": "markdown",
   "id": "b9a8bdb5",
   "metadata": {
    "papermill": {
     "duration": 0.049158,
     "end_time": "2021-08-06T03:19:15.661815",
     "exception": false,
     "start_time": "2021-08-06T03:19:15.612657",
     "status": "completed"
    },
    "tags": []
   },
   "source": [
    "##### missing data"
   ]
  },
  {
   "cell_type": "code",
   "execution_count": 32,
   "id": "c46d27c3",
   "metadata": {
    "execution": {
     "iopub.execute_input": "2021-08-06T03:19:15.762484Z",
     "iopub.status.busy": "2021-08-06T03:19:15.761877Z",
     "iopub.status.idle": "2021-08-06T03:19:15.764752Z",
     "shell.execute_reply": "2021-08-06T03:19:15.765235Z"
    },
    "papermill": {
     "duration": 0.056689,
     "end_time": "2021-08-06T03:19:15.765429",
     "exception": false,
     "start_time": "2021-08-06T03:19:15.708740",
     "status": "completed"
    },
    "tags": []
   },
   "outputs": [
    {
     "data": {
      "text/plain": [
       "2"
      ]
     },
     "execution_count": 32,
     "metadata": {},
     "output_type": "execute_result"
    }
   ],
   "source": [
    "#missing data for Embarked column\n",
    "train['Embarked'].isnull().sum()"
   ]
  },
  {
   "cell_type": "code",
   "execution_count": 33,
   "id": "17631ad6",
   "metadata": {
    "execution": {
     "iopub.execute_input": "2021-08-06T03:19:15.863454Z",
     "iopub.status.busy": "2021-08-06T03:19:15.862866Z",
     "iopub.status.idle": "2021-08-06T03:19:15.868026Z",
     "shell.execute_reply": "2021-08-06T03:19:15.868515Z"
    },
    "papermill": {
     "duration": 0.055644,
     "end_time": "2021-08-06T03:19:15.868689",
     "exception": false,
     "start_time": "2021-08-06T03:19:15.813045",
     "status": "completed"
    },
    "tags": []
   },
   "outputs": [
    {
     "data": {
      "text/plain": [
       "'S'"
      ]
     },
     "execution_count": 33,
     "metadata": {},
     "output_type": "execute_result"
    }
   ],
   "source": [
    "#handel with missing data in Embarked feature \n",
    "#train['Embarked'].head()\n",
    "train['Embarked'].mode()[0]"
   ]
  },
  {
   "cell_type": "code",
   "execution_count": 34,
   "id": "1ae8b222",
   "metadata": {
    "execution": {
     "iopub.execute_input": "2021-08-06T03:19:15.967409Z",
     "iopub.status.busy": "2021-08-06T03:19:15.966819Z",
     "iopub.status.idle": "2021-08-06T03:19:15.971545Z",
     "shell.execute_reply": "2021-08-06T03:19:15.971963Z"
    },
    "papermill": {
     "duration": 0.054931,
     "end_time": "2021-08-06T03:19:15.972134",
     "exception": false,
     "start_time": "2021-08-06T03:19:15.917203",
     "status": "completed"
    },
    "tags": []
   },
   "outputs": [],
   "source": [
    "#fill nulls with most common value S\n",
    "train['Embarked']=train['Embarked'].fillna(train['Embarked'].mode()[0])"
   ]
  },
  {
   "cell_type": "code",
   "execution_count": 35,
   "id": "d7d2385a",
   "metadata": {
    "execution": {
     "iopub.execute_input": "2021-08-06T03:19:16.076026Z",
     "iopub.status.busy": "2021-08-06T03:19:16.075416Z",
     "iopub.status.idle": "2021-08-06T03:19:16.189031Z",
     "shell.execute_reply": "2021-08-06T03:19:16.188461Z"
    },
    "papermill": {
     "duration": 0.169045,
     "end_time": "2021-08-06T03:19:16.189161",
     "exception": false,
     "start_time": "2021-08-06T03:19:16.020116",
     "status": "completed"
    },
    "tags": []
   },
   "outputs": [
    {
     "data": {
      "image/png": "[encoded data removed]",
      "text/plain": [
       "<Figure size 432x288 with 1 Axes>"
      ]
     },
     "metadata": {
      "needs_background": "light"
     },
     "output_type": "display_data"
    }
   ],
   "source": [
    "#count plot for Embarked column\n",
    "sns.countplot(x='Embarked',data=train,palette='Oranges_r');"
   ]
  },
  {
   "cell_type": "markdown",
   "id": "d3d6ae97",
   "metadata": {
    "papermill": {
     "duration": 0.048918,
     "end_time": "2021-08-06T03:19:16.286699",
     "exception": false,
     "start_time": "2021-08-06T03:19:16.237781",
     "status": "completed"
    },
    "tags": []
   },
   "source": [
    "this graph shows the Port of Embarkation (C = Cherbourg, Q = Queenstown, S = Southampton). as we notice the most passengers embarkation is Southampton"
   ]
  },
  {
   "cell_type": "code",
   "execution_count": 36,
   "id": "12ad8687",
   "metadata": {
    "execution": {
     "iopub.execute_input": "2021-08-06T03:19:16.390844Z",
     "iopub.status.busy": "2021-08-06T03:19:16.390220Z",
     "iopub.status.idle": "2021-08-06T03:19:16.595930Z",
     "shell.execute_reply": "2021-08-06T03:19:16.595270Z"
    },
    "papermill": {
     "duration": 0.260647,
     "end_time": "2021-08-06T03:19:16.596072",
     "exception": false,
     "start_time": "2021-08-06T03:19:16.335425",
     "status": "completed"
    },
    "tags": []
   },
   "outputs": [
    {
     "data": {
      "image/png": "[encoded data removed]",
      "text/plain": [
       "<Figure size 432x288 with 1 Axes>"
      ]
     },
     "metadata": {
      "needs_background": "light"
     },
     "output_type": "display_data"
    }
   ],
   "source": [
    "#plot the relationsip between Embarked and survived\n",
    "sns.barplot(x='Embarked',y='Survived',data=train);\n"
   ]
  },
  {
   "cell_type": "markdown",
   "id": "af09ce9d",
   "metadata": {
    "papermill": {
     "duration": 0.049411,
     "end_time": "2021-08-06T03:19:16.695162",
     "exception": false,
     "start_time": "2021-08-06T03:19:16.645751",
     "status": "completed"
    },
    "tags": []
   },
   "source": [
    "the most survived passengers are from embarked C"
   ]
  },
  {
   "cell_type": "markdown",
   "id": "6f0108f2",
   "metadata": {
    "papermill": {
     "duration": 0.050298,
     "end_time": "2021-08-06T03:19:16.795943",
     "exception": false,
     "start_time": "2021-08-06T03:19:16.745645",
     "status": "completed"
    },
    "tags": []
   },
   "source": [
    "lets see in a graph the surviving rate between children,adults and old passengers in each embarked and each class"
   ]
  },
  {
   "cell_type": "code",
   "execution_count": 37,
   "id": "d453f308",
   "metadata": {
    "execution": {
     "iopub.execute_input": "2021-08-06T03:19:16.901672Z",
     "iopub.status.busy": "2021-08-06T03:19:16.901067Z",
     "iopub.status.idle": "2021-08-06T03:19:17.743077Z",
     "shell.execute_reply": "2021-08-06T03:19:17.742608Z"
    },
    "papermill": {
     "duration": 0.897705,
     "end_time": "2021-08-06T03:19:17.743215",
     "exception": false,
     "start_time": "2021-08-06T03:19:16.845510",
     "status": "completed"
    },
    "tags": []
   },
   "outputs": [
    {
     "name": "stderr",
     "output_type": "stream",
     "text": [
      "/opt/conda/lib/python3.7/site-packages/seaborn/axisgrid.py:316: UserWarning: The `size` parameter has been renamed to `height`; please update your code.\n",
      "  warnings.warn(msg, UserWarning)\n",
      "/opt/conda/lib/python3.7/site-packages/seaborn/axisgrid.py:643: UserWarning: Using the pointplot function without specifying `order` is likely to produce an incorrect plot.\n",
      "  warnings.warn(warning)\n",
      "/opt/conda/lib/python3.7/site-packages/seaborn/axisgrid.py:648: UserWarning: Using the pointplot function without specifying `hue_order` is likely to produce an incorrect plot.\n",
      "  warnings.warn(warning)\n"
     ]
    },
    {
     "data": {
      "image/png": "[encoded data removed]",
      "text/plain": [
       "<Figure size 315.065x475.2 with 3 Axes>"
      ]
     },
     "metadata": {
      "needs_background": "light"
     },
     "output_type": "display_data"
    }
   ],
   "source": [
    "grid = sns.FacetGrid(train,row='Embarked', size=2.2, aspect=1.6);\n",
    "grid.map(sns.pointplot,'Pclass', 'Survived','Age',alpha=.5, ci=None);\n",
    "grid.add_legend();"
   ]
  },
  {
   "cell_type": "markdown",
   "id": "2e2f5e3d",
   "metadata": {
    "papermill": {
     "duration": 0.05102,
     "end_time": "2021-08-06T03:19:17.844684",
     "exception": false,
     "start_time": "2021-08-06T03:19:17.793664",
     "status": "completed"
    },
    "tags": []
   },
   "source": [
    "### The end"
   ]
  },
  {
   "cell_type": "markdown",
   "id": "b09290e0",
   "metadata": {
    "papermill": {
     "duration": 0.052967,
     "end_time": "2021-08-06T03:19:17.947784",
     "exception": false,
     "start_time": "2021-08-06T03:19:17.894817",
     "status": "completed"
    },
    "tags": []
   },
   "source": [
    "this is all I did in exploring Titanic data I hope it gaves you a little bit about exploring and yes I focused more on the geaphs because I think it is a very strong tool to show the relationships."
   ]
  },
  {
   "cell_type": "markdown",
   "id": "4231a0ed",
   "metadata": {
    "papermill": {
     "duration": 0.051718,
     "end_time": "2021-08-06T03:19:18.050737",
     "exception": false,
     "start_time": "2021-08-06T03:19:17.999019",
     "status": "completed"
    },
    "tags": []
   },
   "source": []
  },
  {
   "cell_type": "code",
   "execution_count": null,
   "id": "e4e3fe80",
   "metadata": {
    "papermill": {
     "duration": 0.051528,
     "end_time": "2021-08-06T03:19:18.156287",
     "exception": false,
     "start_time": "2021-08-06T03:19:18.104759",
     "status": "completed"
    },
    "tags": []
   },
   "outputs": [],
   "source": []
  }
 ],
 "metadata": {
  "kernelspec": {
   "display_name": "Python 3",
   "language": "python",
   "name": "python3"
  },
  "language_info": {
   "codemirror_mode": {
    "name": "ipython",
    "version": 3
   },
   "file_extension": ".py",
   "mimetype": "text/x-python",
   "name": "python",
   "nbconvert_exporter": "python",
   "pygments_lexer": "ipython3",
   "version": "3.7.10"
  },
  "papermill": {
   "default_parameters": {},
   "duration": 26.718393,
   "end_time": "2021-08-06T03:19:19.018626",
   "environment_variables": {},
   "exception": null,
   "input_path": "__notebook__.ipynb",
   "output_path": "__notebook__.ipynb",
   "parameters": {},
   "start_time": "2021-08-06T03:18:52.300233",
   "version": "2.3.3"
  }
 },
 "nbformat": 4,
 "nbformat_minor": 5
}
